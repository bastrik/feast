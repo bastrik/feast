{
 "cells": [
  {
   "cell_type": "code",
   "execution_count": 9,
   "metadata": {},
   "outputs": [
    {
     "name": "stdout",
     "output_type": "stream",
     "text": [
      "[('xserver_name', 'varchar'), ('xdttm_ins', 'datetime'), ('xdttm_last_ins_upd', 'datetime'), ('xfallback_dbid', 'smallint'), ('name', 'varchar'), ('dbid', 'smallint'), ('status', 'smallint'), ('version', 'smallint'), ('xserver_name', 'varchar'), ('xdttm_ins', 'datetime'), ('xdttm_last_ins_upd', 'datetime'), ('xfallback_low', 'int'), ('xfallback_drive', 'char'), ('low', 'int'), ('high', 'int'), ('status', 'smallint'), ('name', 'varchar'), ('phyname', 'varchar'), ('xserver_name', 'varchar'), ('xdttm_ins', 'datetime'), ('xdttm_last_ins_upd', 'datetime'), ('xfallback_vstart', 'int'), ('dbid', 'smallint'), ('segmap', 'int'), ('lstart', 'int'), ('sizepg', 'int'), ('vstart', 'int'), ('name', 'nvarchar'), ('number', 'int'), ('type', 'nchar'), ('low', 'int'), ('high', 'int'), ('status', 'int'), ('lastrun', 'datetime'), ('cpu_busy', 'int'), ('io_busy', 'int'), ('idle', 'int'), ('pack_received', 'int'), ('pack_sent', 'int'), ('connections', 'int'), ('pack_errors', 'int'), ('total_read', 'int'), ('total_write', 'int'), ('total_errors', 'int'), ('optname', 'nvarchar'), ('value', 'bit'), ('major_version', 'int'), ('minor_version', 'int'), ('revision', 'int'), ('install_failures', 'int')]\n"
     ]
    }
   ],
   "source": [
    "import pymssql\n",
    "import pandas as pd\n",
    "\n",
    "conn = pymssql.connect(server='localhost', user='sa', password='yourStrong(!)Password', database='master')\n",
    "\n",
    "table_schema = pd.read_sql(\"select * from INFORMATION_SCHEMA.COLUMNS;\", conn)\n",
    "\n",
    "name_type_pairs = []\n",
    "name_type_pairs.extend(\n",
    "    list(zip(table_schema[\"COLUMN_NAME\"].to_list(), table_schema[\"DATA_TYPE\"].to_list())))\n",
    "\n",
    "print(name_type_pairs)"
   ]
  },
  {
   "cell_type": "code",
   "execution_count": null,
   "metadata": {},
   "outputs": [],
   "source": []
  },
  {
   "cell_type": "code",
   "execution_count": null,
   "metadata": {},
   "outputs": [],
   "source": []
  },
  {
   "cell_type": "code",
   "execution_count": null,
   "metadata": {},
   "outputs": [],
   "source": []
  },
  {
   "cell_type": "code",
   "execution_count": null,
   "metadata": {},
   "outputs": [],
   "source": []
  },
  {
   "cell_type": "code",
   "execution_count": null,
   "metadata": {},
   "outputs": [],
   "source": []
  },
  {
   "cell_type": "code",
   "execution_count": null,
   "metadata": {},
   "outputs": [],
   "source": []
  },
  {
   "cell_type": "code",
   "execution_count": null,
   "metadata": {},
   "outputs": [],
   "source": []
  },
  {
   "cell_type": "code",
   "execution_count": null,
   "metadata": {},
   "outputs": [],
   "source": []
  },
  {
   "cell_type": "code",
   "execution_count": null,
   "metadata": {},
   "outputs": [],
   "source": []
  },
  {
   "cell_type": "code",
   "execution_count": null,
   "metadata": {},
   "outputs": [],
   "source": []
  },
  {
   "cell_type": "code",
   "execution_count": null,
   "metadata": {},
   "outputs": [],
   "source": []
  },
  {
   "cell_type": "code",
   "execution_count": null,
   "metadata": {},
   "outputs": [],
   "source": []
  },
  {
   "cell_type": "code",
   "execution_count": null,
   "metadata": {},
   "outputs": [],
   "source": []
  }
 ],
 "metadata": {
  "interpreter": {
   "hash": "5bb86e12f176ba96b9019668a4f6d8ad844b00824117a0496e6f92fa92afe264"
  },
  "kernelspec": {
   "display_name": "Python 3.9.5 64-bit ('env': venv)",
   "name": "python3"
  },
  "language_info": {
   "codemirror_mode": {
    "name": "ipython",
    "version": 3
   },
   "file_extension": ".py",
   "mimetype": "text/x-python",
   "name": "python",
   "nbconvert_exporter": "python",
   "pygments_lexer": "ipython3",
   "version": "3.9.5"
  }
 },
 "nbformat": 4,
 "nbformat_minor": 5
}